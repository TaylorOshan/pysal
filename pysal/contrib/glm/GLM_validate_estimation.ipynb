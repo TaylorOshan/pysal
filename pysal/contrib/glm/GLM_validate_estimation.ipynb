{
 "cells": [
  {
   "cell_type": "code",
   "execution_count": 1,
   "metadata": {
    "collapsed": false
   },
   "outputs": [],
   "source": [
    "#Import GLM and pysal\n",
    "import os\n",
    "import numpy as np\n",
    "#os.chdir('/Users/qszhao/Dropbox/pysal/pysal/contrib/gwr')\n",
    "os.chdir('/Users/toshan/dev/pysal/pysal/contrib/glm')\n",
    "from glm import GLM\n",
    "import pysal\n",
    "import pandas as pd\n",
    "import statsmodels.formula.api as smf\n",
    "import statsmodels.api as sm\n",
    "import family\n",
    "#from statsmodels.api import families as family"
   ]
  },
  {
   "cell_type": "code",
   "execution_count": 2,
   "metadata": {
    "collapsed": false
   },
   "outputs": [],
   "source": [
    "#Prepare some test data - columbus example\n",
    "db = pysal.open(pysal.examples.get_path('columbus.dbf'),'r')\n",
    "y = np.array(db.by_col(\"HOVAL\"))\n",
    "y = np.reshape(y, (49,1))\n",
    "X = []\n",
    "#X.append(np.ones(len(y)))\n",
    "X.append(db.by_col(\"INC\"))\n",
    "X.append(db.by_col(\"CRIME\"))\n",
    "X = np.array(X).T\n"
   ]
  },
  {
   "cell_type": "code",
   "execution_count": 3,
   "metadata": {
    "collapsed": false
   },
   "outputs": [
    {
     "name": "stdout",
     "output_type": "stream",
     "text": [
      "[[ 46.42818268]\n",
      " [  0.62898397]\n",
      " [ -0.48488854]]\n"
     ]
    }
   ],
   "source": [
    "#First fit pysal OLS model\n",
    "from pysal.spreg import ols\n",
    "OLS = ols.OLS(y, X)\n",
    "print OLS.betas"
   ]
  },
  {
   "cell_type": "code",
   "execution_count": 4,
   "metadata": {
    "collapsed": false,
    "scrolled": false
   },
   "outputs": [
    {
     "name": "stdout",
     "output_type": "stream",
     "text": [
      "[[ 0.]\n",
      " [ 0.]\n",
      " [ 0.]]\n",
      "[[ 46.42818268]\n",
      " [  0.62898397]\n",
      " [ -0.48488854]]\n",
      "[[ 46.42818268]\n",
      " [  0.62898397]\n",
      " [ -0.48488854]]\n",
      "[[ 46.42818268]\n",
      " [  0.62898397]\n",
      " [ -0.48488854]]\n",
      "[[ 46.42818268]\n",
      " [  0.62898397]\n",
      " [ -0.48488854]]\n",
      "[[ 46.42818268]\n",
      " [  0.62898397]\n",
      " [ -0.48488854]]\n",
      "[[ 46.42818268]\n",
      " [  0.62898397]\n",
      " [ -0.48488854]]\n",
      "[[ 46.42818268]\n",
      " [  0.62898397]\n",
      " [ -0.48488854]]\n",
      "[[ 46.42818268]\n",
      " [  0.62898397]\n",
      " [ -0.48488854]]\n",
      "[[ 46.42818268]\n",
      " [  0.62898397]\n",
      " [ -0.48488854]]\n",
      "[[ 46.42818268]\n",
      " [  0.62898397]\n",
      " [ -0.48488854]]\n",
      "[[ 46.42818268]\n",
      " [  0.62898397]\n",
      " [ -0.48488854]]\n",
      "[[ 46.42818268   0.62898397  -0.48488854]]\n",
      "[ 46.42818268   0.62898397  -0.48488854]\n"
     ]
    }
   ],
   "source": [
    "#Then fit Gaussian GLM\n",
    "\n",
    "#create Gaussian GLM model object\n",
    "model = GLM(y, X, family.Gaussian())\n",
    "model\n",
    "\n",
    "#Fit model to estimate coefficients and return GLMResults object\n",
    "results = model.fit()\n",
    "\n",
    "#Check coefficients - R betas [46.4282, 0.6290, -0.4849]\n",
    "print results.betas.T\n",
    "\n",
    "# Gaussian GLM results from statsmodels\n",
    "sm_results = smf.OLS(y, sm.add_constant(X), ).fit()\n",
    "print sm_results.params"
   ]
  },
  {
   "cell_type": "code",
   "execution_count": 5,
   "metadata": {
    "collapsed": false
   },
   "outputs": [
    {
     "name": "stdout",
     "output_type": "stream",
     "text": [
      "[[ 0.]\n",
      " [ 0.]\n",
      " [ 0.]]\n",
      "[[ 3.92373156]\n",
      " [ 0.01264334]\n",
      " [-0.01335153]]\n",
      "[[ 3.91911347]\n",
      " [ 0.01199726]\n",
      " [-0.01369886]]\n",
      "[[ 3.91925944]\n",
      " [ 0.01198276]\n",
      " [-0.01370719]]\n",
      "[[ 3.91925951]\n",
      " [ 0.01198275]\n",
      " [-0.0137072 ]]\n",
      "[[ 3.91925951]\n",
      " [ 0.01198275]\n",
      " [-0.0137072 ]]\n",
      "[[ 3.91925951]\n",
      " [ 0.01198275]\n",
      " [-0.0137072 ]]\n",
      "[[ 3.91925951]\n",
      " [ 0.01198275]\n",
      " [-0.0137072 ]]\n",
      "[[ 3.91925951]\n",
      " [ 0.01198275]\n",
      " [-0.0137072 ]]\n",
      "[[ 3.91925951]\n",
      " [ 0.01198275]\n",
      " [-0.0137072 ]]\n",
      "[[ 3.91925951]\n",
      " [ 0.01198275]\n",
      " [-0.0137072 ]]\n",
      "[[ 3.91925951]\n",
      " [ 0.01198275]\n",
      " [-0.0137072 ]]\n",
      "[[ 3.91925951  0.01198275 -0.0137072 ]]\n",
      "[ 3.91925951  0.01198275 -0.0137072 ]\n"
     ]
    }
   ],
   "source": [
    "#Now fit a Poisson GLM \n",
    "\n",
    "poisson_y = np.round(y)\n",
    "\n",
    "#create Poisson GLM model object\n",
    "model = GLM(y, X, family.Poisson())\n",
    "model\n",
    "\n",
    "#Fit model to estimate coefficients and return GLMResults object\n",
    "results = model.fit()\n",
    "\n",
    "#Check coefficients - R betas [3.91926, 0.01198, -0.01371]\n",
    "print results.betas.T\n",
    "\n",
    "# Poisson GLM results from statsmodels\n",
    "sm_results = smf.GLM(y, sm.add_constant(X), family=family.Poisson()).fit()\n",
    "print sm_results.params"
   ]
  },
  {
   "cell_type": "code",
   "execution_count": 6,
   "metadata": {
    "collapsed": false,
    "scrolled": false
   },
   "outputs": [
    {
     "name": "stdout",
     "output_type": "stream",
     "text": [
      "[[ 0.]\n",
      " [ 0.]]\n",
      "[[-3.28539648]\n",
      " [ 0.01460839]]\n",
      "[[-4.684064 ]\n",
      " [ 0.0244298]]\n",
      "[[-5.25187088]\n",
      " [ 0.02821449]]\n",
      "[[-5.33484113]\n",
      " [ 0.02876519]]\n",
      "[[-5.33638224]\n",
      " [ 0.0287754 ]]\n",
      "[[-5.33638276]\n",
      " [ 0.0287754 ]]\n",
      "[[-5.33638276]\n",
      " [ 0.0287754 ]]\n",
      "[[-5.33638276]\n",
      " [ 0.0287754 ]]\n",
      "[[-5.33638276]\n",
      " [ 0.0287754 ]]\n",
      "[[-5.33638276]\n",
      " [ 0.0287754 ]]\n",
      "[[-5.33638276]\n",
      " [ 0.0287754 ]]\n",
      "[[-5.33638276  0.0287754 ]]\n",
      "[-5.33638276  0.0287754 ]\n"
     ]
    }
   ],
   "source": [
    "#Now fit a binomial GLM\n",
    "londonhp = pd.read_csv('/Users/toshan/projects/londonhp.csv')\n",
    "#londonhp = pd.read_csv('/Users/qszhao/Dropbox/pysal/pysal/contrib/gwr/londonhp.csv')\n",
    "y = londonhp['BATH2'].values\n",
    "y = np.reshape(y, (316,1))\n",
    "X = londonhp['FLOORSZ'].values\n",
    "X = np.reshape(X, (316,1))\n",
    "\n",
    "#create logistic GLM model object\n",
    "model = GLM(y, X, family.Binomial())\n",
    "model\n",
    "\n",
    "#Fit model to estimate coefficients and return GLMResults object\n",
    "results = model.fit()\n",
    "\n",
    "#Check coefficients - R betas [-5.33638, 0.02878]\n",
    "print results.betas.T\n",
    "\n",
    "# Logistic GLM results from statsmodels\n",
    "sm_results = smf.GLM(y, sm.add_constant(X), family=family.Binomial()).fit()\n",
    "print sm_results.params"
   ]
  },
  {
   "cell_type": "code",
   "execution_count": null,
   "metadata": {
    "collapsed": true
   },
   "outputs": [],
   "source": []
  },
  {
   "cell_type": "code",
   "execution_count": null,
   "metadata": {
    "collapsed": true
   },
   "outputs": [],
   "source": []
  }
 ],
 "metadata": {
  "kernelspec": {
   "display_name": "Python 2",
   "language": "python",
   "name": "python2"
  },
  "language_info": {
   "codemirror_mode": {
    "name": "ipython",
    "version": 2
   },
   "file_extension": ".py",
   "mimetype": "text/x-python",
   "name": "python",
   "nbconvert_exporter": "python",
   "pygments_lexer": "ipython2",
   "version": "2.7.9"
  }
 },
 "nbformat": 4,
 "nbformat_minor": 0
}
