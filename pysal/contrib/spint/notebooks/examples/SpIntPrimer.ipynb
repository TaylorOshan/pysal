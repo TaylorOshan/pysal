{
 "cells": [
  {
   "cell_type": "markdown",
   "metadata": {},
   "source": [
    "A primer for working with the **_Sp_**atial **_Int_**eraction modeling (SpInt) module in the python spatial analysis library (PySAL)\n",
    "===================================================================================================================\n"
   ]
  },
  {
   "cell_type": "markdown",
   "metadata": {},
   "source": [
    "## Introduction"
   ]
  },
  {
   "cell_type": "markdown",
   "metadata": {},
   "source": [
    "Spatial interaction modeling involves the analysis of flows from an origin to a destination either over physical space (i.e., migration) or through abstract space (i.e., telecommunication). Despite being a fundamental technique to many geogaphic disciplines, there is relatively little software available to carry out spatial interaction modeling and the analysis of flow data. Therefore, the purpose of this primer is to provide an overview of the recently develped spatial interaction modeling (SpInt) module of the python spatial analysis library (PySAL). First, the current framework of the module will be highlighted. Next, the main functionality of the module will be illustrated with a common regional science example, migration flows, with a dataset previously used for spatial interaction modeling tutorials in the R programming environment. Finally, some auxilliary functionality and future additions are discussed. "
   ]
  },
  {
   "cell_type": "markdown",
   "metadata": {},
   "source": [
    "\n",
    "## The SpInt Framework"
   ]
  },
  {
   "cell_type": "markdown",
   "metadata": {},
   "source": [
    "### Modeling framework"
   ]
  },
  {
   "cell_type": "markdown",
   "metadata": {},
   "source": [
    "The core purpose of the SpInt module is to provide the functionality to calibrate spatial interaction models. Since the \"family\" of spatial interaction models put forth by Wilson (Wilson, 1971) are perhaps the most popular, they were chosen as the starting point of the module. Consider the basic gravity model (Fotheringham & O'Kelly, 1989), \n",
    "\n",
    "$$T_{ij} = k\\frac{V_{i}^\\mu W_{j}^\\alpha}{d_{ij}^\\beta} \\quad(1)$$\n",
    "\n",
    "\n",
    "where \n",
    "\n",
    "- $T_{ij}$ = an $n \\times m$ matrix of flows between $n$ origins (subscripted by $i$) to $m$ destinations (subscripted by $j$) \n",
    "\n",
    "\n",
    "- $V$ = an $n \\times p$ and vector of $p$ origin attributes describing the emissiveness of $i$ \n",
    "\n",
    "\n",
    "- $W$ = an $m \\times p$ vector of $p$ destination attributes describing the attractiveness of $j$ \n",
    "\n",
    "\n",
    "- $d$ = an $n \\times m$ matrix of the costs to overcome the physical separation between  $i$ and $j$ (usually distance or time) \n",
    "\n",
    "\n",
    "- $k$ = a scaling factor to be estimated to ensure the total flows is consistent \n",
    "\n",
    "\n",
    "- $\\mu$ = a $p \\times 1$ vector of parameters representing the effect of $p$ origin attributes on flows \n",
    "\n",
    "\n",
    "- $\\alpha$ = a $p \\times 1$ vector of parameters representing the effect of $p$ destination attributes on flows \n",
    "\n",
    "\n",
    "- $\\beta$ = an exponential parameter representing the effect of movement costs on flows. \n",
    "\n",
    "\n",
    "When data for $T$, $V$,  $W$, and $d$ are available we can estimate the model parameters (also called calibration), which summarize the effect that each model component contributes towards explaining the system of known flows ($T$). In contrast, known parameters can be used to predict unknown flows when there are deviations in model components ($V$, $W$, and $d$) or the set of locations in the system are altered.\n",
    "\n",
    "Using an entropy-maximizing framework, Wilson derives a more informative and flexible \"family\" of four spatial interaction models (Wilson, 1971). This framework seeks to assign flows between a set of origins and destinations by finding the most probable configuration of flows out of all possible configurations, without making any additional assumptions. By using a common optimization problem and including information about the total inflows and outflows at each location (also called constraints), the following \"family\" of models can be obtained,\n",
    "\n",
    "$$\n",
    "\\begin{align}\n",
    "&Unconstrained \\ (Gravity) \\\\\n",
    "&Tij = V_{i}^\\mu W_{j}^\\alpha  f(d_{ij}) \\quad & (2) \\\\\n",
    "\\\\\n",
    "&Production-constrained \\\\\n",
    "&T_{ij} = A_{i}O_{i}W_{j}^\\alpha f(d_{ij}) \\quad & (3) \\\\\n",
    "&A_{i} = \\sum_{j} W_{j}^\\alpha f(d_{ij}) \\quad & (3a) \\\\\n",
    "\\\\\n",
    "&Attraction-constrained \\\\\n",
    "&T_{ij} = B_{j}D_{j}V_{i}^\\mu f(d_{ij}) \\quad & (4) \\\\\n",
    "&B_{j} = \\sum_{i} V_{i}^\\mu f(d_{ij}) \\quad & (4a) \\\\\n",
    "\\\\\n",
    "&Doubly-constrained \\\\\n",
    "&T_{ij} = A_{i}B_{j}O_{i}D_{j}f(d_{ij}) \\quad & (5) \\\\\n",
    "&A_{i} = \\sum_{j} W_{j}^\\alpha B_{j} D_{j} f(d_{ij}) \\quad & (5a) \\\\\n",
    "&B_{j} = \\sum_{i} V_{i}^\\mu A_{i} O_{i} f(d_{ij}) \\quad & (5b)\n",
    "\\end{align}\n",
    "$$\n",
    "\n",
    "\n",
    "where \n",
    "\n",
    "- $O_{i}$ = an $n \\times 1$ vector of the total number of flows emanating from origin $i$\n",
    "\n",
    "- $D_{j}$ = an $m \\times 1$ vector of the total number of flows terminating at destination $j$\n",
    "\n",
    "- $A_{i}$ = an $n \\times 1$ vector of thevorigin balancing factors that ensures the total out-flows are preserved in the predicted flows\n",
    "\n",
    "- $B_{j}$ = an $m \\times 1$ vector of the destination balancing factors that ensures the total in-flows are preserved in the predicted flows\n",
    "\n",
    "- $f(d_{ij})$ = a function of cost or distance, referred to as the distance-decay function. Most commonly this an exponential or power function given by,\n",
    "\n",
    "$$\n",
    "\\begin{align}\n",
    "&Power\\\\\n",
    "&f(d_{ij}) = d_{ij}^\\beta \\quad & (6) \\\\\n",
    "\\\\\n",
    "&Exponential \\\\\n",
    "&f(d_{ij}) = exp(\\beta*d_{ij}) \\quad & (7) \\\\\n",
    "\\end{align}\n",
    "$$\n",
    "\n",
    "where $\\beta$ is expected to take a negative value. Different distance-decay functions assume different responses to higher costs associated with moving to more distant locations. Of note is that the unconstrained model with of power function distance-decay is equivalent to the basic gravity model in equation (2), except that the scaling factor, $k$, is not included. In fact, there is no scaling factor in any of the members of the family of maximum entropy models because there is a total trip constrained implied in their derivation and subsequently incorporated into their calibration (Fotheringham & O'Kelly , 1989). Another aside is that in the doubly-constrained maximum entoropy model the values for $A_{i}$ and $B_{j}$ are dependent upon each other and may need to be computed iteratively depending on calibration technqiue. It is also usually assumed that $n=m$ for doubly-constrained models.\n",
    "\n",
    "The family provides different model strucutre depedning on the available data or the research question at hand. The so-called unconstrained model does not conserve the total inflows or outflows during parameter estimation. The production-constrained and attraction-constrained models conserve either the number of total inflows or outflows, respectively, and are therefore useful for building models that allocate flows either to a set of origins or to a set of destinations. Finally, the doubly-constrained model conserves both the inflows and the outflows at each location during model calibration. The quantity of explanatory information provided by each model is given by the number of parameters it provides. As such, the unconstrained model provides the most information, followed by the two singly-constrained models, with the doubly-constrained model providing the least information. Conversely, the model's predictive power increases with higher quantities of built-in information (i.e. total in or out-flows) so that the doubly-constrained model usually provides the most accurate predictions, followed by the two singly-constrained models, and the unconstrained model supplying the weakest predictions (Fotheringham & O'Kelly, 1989). "
   ]
  },
  {
   "cell_type": "markdown",
   "metadata": {},
   "source": [
    "### Calibration framework"
   ]
  },
  {
   "cell_type": "markdown",
   "metadata": {},
   "source": [
    "Spatial interaction models are often calibrated via linear programming, nonlinear optimization, or increasingly more often through linear regression. Given the flexibility and extendability of a regression framework it was chosen as the primary model calibration technqiue within the SpInt module. By taking the natural logarithm of both sides of a spatial interaction model, say the basic gravity model, is is possible to obtain the so-called log-linear or log-normal spatial interaction model,\n",
    "\n",
    "\n",
    "$$\n",
    "\\begin{align}\n",
    "& Power-function \\\\\n",
    "&\\ln{T_{ij}} = k + \\mu \\ln{V_{i}} + \\alpha \\ln{W_{j}} - \\beta \\ln{d_{ij}} + \\epsilon \\quad &(8a) \\\\\n",
    "\\\\\n",
    "& Exponential-function \\\\\n",
    "&\\ln{T_{ij}} = k + \\mu \\ln{V_{i}} + \\alpha \\ln{W_{j}} - \\beta {d_{ij}} + \\epsilon \\quad &(8b) \\\\\n",
    "\\end{align}\n",
    "$$\n",
    "\n",
    "\n",
    "where $\\epsilon$ is a a normally distributed error term with a mean of 0. The only difference between equations (8a) and (8b) is the functional distance-decay specification, which results from plugging in either equation (6) for a power function or (7) for an exponential function into equation (2) before linearizing it. The only practical difference here is that the distance is logged in equation (8a) whereas in equation (8b) it is not. Constrained spatial interaction models can be achieved by including a fixed effects for the origins (production-constrained), a fixed effect for the destinations (attraction-constrained) or both (doubly-constrained). However, there are several limitations of the log-normal gravity model, which include,\n",
    "\n",
    "1. flows are often counts of people or objects and should be modeled as discrete entities; \n",
    "2. flows are often not normally distributed;\n",
    "3. downward biased flow predictions due to producing estimates for the logarithm of flows instead of actual flows\n",
    "4. zero flows are problematic since the logarithm of zero is undefined.\n",
    "\n",
    "Therefore, Flowerdew and Aitkin (1984) propose the Poisson log-linear regression specification for the family of spatial interaction models. This specification assumes that the number of flows between $i$ and $j$ is drawn from a Poisson distribution with mean, $\\lambda_{ij} = T_{ij}$, where $\\lambda_{ij}$ is assumed to be logarithmically linked to the linear combination of variables,\n",
    "\n",
    "$$\\ln{\\lambda_{ij}} = k + \\mu \\ln V_{i} + \\alpha \\ln W_{j} - \\beta \\ln d_{ij}) \\quad (9a)$$\n",
    "\n",
    "and exponentiating both sides of the equation yields the unconstrained Poisson log-linear gravity model,\n",
    "\n",
    "$$T_{ij} = \\exp(k + \\mu \\ln V_{i} + \\alpha \\ln W_{j} - \\beta \\ln d_{ij}) \\quad (9b) $$\n",
    "\n",
    "where equations (9a) and (9b) refer to the unconstrained model with a power function distance-decay. As previously mentioned, using fixed effects for the balancing in equations (2-5) factors, the constrained variants of the family of spatial interaction models can be specified as,\n",
    "\n",
    "$$\n",
    "\\begin{align}\n",
    "&Production-constrained \\\\\n",
    "&T_{ij} = \\exp(k + \\mu_{i} + \\alpha \\ln W_{j} - \\beta \\ln d_{ij}) \\quad & (10) \\\\\n",
    "\\\\\n",
    "&Attraction-constrained \\\\\n",
    "&T_{ij} = \\exp(k + \\mu \\ln V_{i} + \\alpha_{j} - \\beta \\ln d_{ij}) \\quad & (11) \\\\\n",
    "\\\\\n",
    "&Doubly-constrained \\\\\n",
    "&T_{ij} = \\exp(k + \\mu_{i} + \\alpha_{j} - \\beta \\ln d_{ij}) \\quad & (12) \\\\\n",
    "\\end{align}\n",
    "$$\n",
    "\n",
    "where $\\mu_{i}$ are origin fixed effects and $\\alpha_{i}$ are destination fixed effects that achieve the same results as including balancing factors. Similar to eqaution (8b) the exponential function distance-decay can be specified in ewuation (9b, 10-12) by ommiting the logarithm associated with $d_ij$. Using Poisson regression is more representative of flows and satisfies limaitations (1-2) and it also alleviates limiations (1-4) since we no longer need to take the logarithm of $T_{ij}$. Using fixed effects within Poisson regression to calibrate the doubly-constrained model also avoids the need for iterative computation of the balancing factors that exists in other calibration methods.  \n",
    "\n",
    "Calibration of Poisson regression can be carried out within a generalized linear modeling framework (GLM) using iteratively weighted least sqaures (IWSL), which converges to the maximum likelihood estimates for the parameter estimates (Nelder & Wedderburn, 1972). To maintain computational efficiency with increasingly larger spatial interaction datasets, SpInt is built upon a custom GLM/IWLS routine that leverages sparse data structures for the production-constrained, attraction-constrained, and doubly-constrained models. As the number of locations in these models increases, so the does the number of binary indicator variables needed to construct the fixed effects that enforce the constraints. Therefore, larger spatial interaction datasets become increasingly sparse and the utilization of sparse data structures take advantage of this feature. As a metric, constrained models with $n = 3,000$ locations, which implies $n^2 = 9,000,000$ observations can still be calibrated within minutes on a standard macbook pro notebook.  "
   ]
  },
  {
   "cell_type": "markdown",
   "metadata": {},
   "source": [
    "### Model fit statistics"
   ]
  },
  {
   "cell_type": "markdown",
   "metadata": {},
   "source": [
    "In order to evaluate the fit of spatial interaction models, it has been recommended that a variety of statistics be used (citation), which is the apporach taken in SpInt. For the log-normal regression specifcation, it is popular to utilize the coefficient of determination ($R^2$), though this statistic is not available within the GLM framework used by SpInt. In replacement of the $R^2$ statistic, the SpInt framework provides a psuedo $R^2$ based on the likelihood function (McFadden, 1974),\n",
    "\n",
    "\n",
    "$$R^2_{pseudo} = 1 - \\frac{\\ln \\hat{L}(M_{full})}{\\ln \\hat{L}(M_{Intercept})} \\quad(14)$$\n",
    "\n",
    "where $\\hat{L}$ is the likelihood of an estimated model, $M_{full}$ is the model including all explanatory variables of interest, and $M_{Intercept}$ is the model with only an intercept (i.e., no covariates). Like the $R^2$ statistic, the pseudo version is at a maximum at a value of 1 with higher values denoting better model fit. To acocunt for model complexity, there is also an adjusted version of this statistic,\n",
    "\n",
    "$$R^2_{adj-pseudo} = 1 - \\frac{\\ln \\hat{L}(M_{full}) - K}{\\ln \\hat{L}(M_{Intercept})} \\quad(15)$$\n",
    "\n",
    "where $K$ is the number of regressors. If model fit does notsufficiently improve, then it is possuble for this measure to decrease as variables are added, signaling that the additional variable does not contribute towards a better model fit. Henceforth, these psuedo $R^2$ statistics are reffered to soley as $R^2. $Another model fit statistic available in the SpInt module that also acocunts for model complexity is the the Akaike information criterion (AIC),\n",
    "\n",
    "$$ AIC = -2\\ln \\hat{L}(M_{full}) + 2K  \\quad(16)$$\n",
    "\n",
    "where lower AIC values indicate a better model fit. This statistic is gorunded in information theory where the AIC is an asymptotic estimate of the information that is lost by using the full model to represent our theoretical process.\n",
    "\n",
    "The psuedo $R^2$ and AIC are designed for model selection, which meansthey should not be used to compare between different spatial systems. One solution to issue is the standardized root mean sqaure error (SRMSE)(citation),\n",
    "\n",
    "$$ SRMSE = \\frac{\\frac{\\sqrt{\\sum_{i}\\sum_{j}(T_{ij} - \\hat{T}_{ij})^{2}}}{n}}{\\frac{\\sum_{i}\\sum_{j}T_{ij}}{n}} \\quad(17)$$\n",
    "\n",
    "where the numberator is the root mean square error of the observed flows, $T_{ij}$ and the flows predicted by the model, $\\hat{T}_{ij}$, and the denominator is the mean of the observed flows and is responsbile for standardization of the statistic. A SRMSE value of 0 indicates perfect model fit, while higher values indicate decreasing model fit; however, the upper limit of the statistic is not necessarily 1 and will depend on the distribution of the observed values(Knudsen & Fotheringham, 1986). \n",
    "\n",
    "One final fit statistic, a modified Sorensen similarity index (SSI), is included within the SpInt module because it has become increasinly popular in some spatial interaction literature that deals with non-parametric models (Lenormand et al., 2012, Yan et al., 2013, other citations), which is defined as,\n",
    "\n",
    "$$ SSI = \\frac{1}{n^2} \\sum_{i} \\sum_{j} \\frac{2min(T_{ij}, \\hat{T}_{ij})}{T_{ij} + \\hat{T}_ij} \\quad(18)$$\n",
    "\n",
    "which is bounded between values of 0 and 1 with values closer to 1 indicating a better model fit. \n"
   ]
  },
  {
   "cell_type": "markdown",
   "metadata": {},
   "source": [
    "## An Illustrative example: migration in Austria"
   ]
  },
  {
   "cell_type": "markdown",
   "metadata": {},
   "source": [
    "### The data"
   ]
  },
  {
   "cell_type": "markdown",
   "metadata": {},
   "source": [
    "The following example purposefully utilizes data that has was previously used to demonstrate spatial interaction modeling the R programming language for validation and consistency. The data is migration flows between Austrian NUTS level 2 municipalities in 2006. In order to use a regression-based calibration, the data has to be transformed from the matrices and vectors described in equations (1-5) to a table where each row represents a single origin-destination dyad, $(i,j)$ and any variables associated with either location. Details on how to do this are outlined further in (LeSage & Pace, 2008), though this has already been done in the example data. Let's have a look! "
   ]
  },
  {
   "cell_type": "code",
   "execution_count": 1,
   "metadata": {
    "collapsed": false
   },
   "outputs": [
    {
     "name": "stderr",
     "output_type": "stream",
     "text": [
      "//anaconda/envs/spint/lib/python2.7/site-packages/matplotlib/font_manager.py:273: UserWarning: Matplotlib is building the font cache using fc-list. This may take a moment.\n",
      "  warnings.warn('Matplotlib is building the font cache using fc-list. This may take a moment.')\n"
     ]
    },
    {
     "name": "stdout",
     "output_type": "stream",
     "text": [
      "Populating the interactive namespace from numpy and matplotlib\n"
     ]
    },
    {
     "data": {
      "text/html": [
       "<div>\n",
       "<table border=\"1\" class=\"dataframe\">\n",
       "  <thead>\n",
       "    <tr style=\"text-align: right;\">\n",
       "      <th></th>\n",
       "      <th>Unnamed: 0</th>\n",
       "      <th>Origin</th>\n",
       "      <th>Destination</th>\n",
       "      <th>Data</th>\n",
       "      <th>Oi</th>\n",
       "      <th>Dj</th>\n",
       "      <th>Dij</th>\n",
       "    </tr>\n",
       "  </thead>\n",
       "  <tbody>\n",
       "    <tr>\n",
       "      <th>0</th>\n",
       "      <td>0</td>\n",
       "      <td>AT11</td>\n",
       "      <td>AT11</td>\n",
       "      <td>0</td>\n",
       "      <td>4016</td>\n",
       "      <td>5146</td>\n",
       "      <td>1.000000e-300</td>\n",
       "    </tr>\n",
       "    <tr>\n",
       "      <th>1</th>\n",
       "      <td>1</td>\n",
       "      <td>AT11</td>\n",
       "      <td>AT12</td>\n",
       "      <td>1131</td>\n",
       "      <td>4016</td>\n",
       "      <td>25741</td>\n",
       "      <td>1.030018e+02</td>\n",
       "    </tr>\n",
       "    <tr>\n",
       "      <th>2</th>\n",
       "      <td>2</td>\n",
       "      <td>AT11</td>\n",
       "      <td>AT13</td>\n",
       "      <td>1887</td>\n",
       "      <td>4016</td>\n",
       "      <td>26980</td>\n",
       "      <td>8.420467e+01</td>\n",
       "    </tr>\n",
       "    <tr>\n",
       "      <th>3</th>\n",
       "      <td>3</td>\n",
       "      <td>AT11</td>\n",
       "      <td>AT21</td>\n",
       "      <td>69</td>\n",
       "      <td>4016</td>\n",
       "      <td>4117</td>\n",
       "      <td>2.208119e+02</td>\n",
       "    </tr>\n",
       "    <tr>\n",
       "      <th>4</th>\n",
       "      <td>4</td>\n",
       "      <td>AT11</td>\n",
       "      <td>AT22</td>\n",
       "      <td>738</td>\n",
       "      <td>4016</td>\n",
       "      <td>8634</td>\n",
       "      <td>1.320075e+02</td>\n",
       "    </tr>\n",
       "  </tbody>\n",
       "</table>\n",
       "</div>"
      ],
      "text/plain": [
       "   Unnamed: 0 Origin Destination  Data    Oi     Dj            Dij\n",
       "0           0   AT11        AT11     0  4016   5146  1.000000e-300\n",
       "1           1   AT11        AT12  1131  4016  25741   1.030018e+02\n",
       "2           2   AT11        AT13  1887  4016  26980   8.420467e+01\n",
       "3           3   AT11        AT21    69  4016   4117   2.208119e+02\n",
       "4           4   AT11        AT22   738  4016   8634   1.320075e+02"
      ]
     },
     "execution_count": 1,
     "metadata": {},
     "output_type": "execute_result"
    },
    {
     "data": {
      "image/png": "[encoded data removed]",
      "text/plain": [
       "<matplotlib.figure.Figure at 0x110d44290>"
      ]
     },
     "metadata": {},
     "output_type": "display_data"
    }
   ],
   "source": [
    "import pandas as pd\n",
    "import geopandas as gp\n",
    "%pylab inline\n",
    "austria_shp = gp.read_file('austria.shp')\n",
    "austria_shp.plot()\n",
    "austria = pd.read_csv('austria.csv')\n",
    "austria.head()"
   ]
  },
  {
   "cell_type": "markdown",
   "metadata": {},
   "source": [
    "The **Origin** and **Destination** columns refer to the origin, $i$, and destination, $j$, location labels, the **Data** column is the number of flows, the **Oi** and **Dj** columns are the number of total out-flows and total in-flows, respectively, and the **Dij** column is the distance between $i$ and $j$. In this case we use the total out-flow and total in-flow as variables to describe how emissive an origin is and how attractive a destination is. If we want a more informative and interesting model we can replace these with application specific variables that pertain to different hypotheses. Next, lets format the data into arrays."
   ]
  },
  {
   "cell_type": "code",
   "execution_count": 2,
   "metadata": {
    "collapsed": false
   },
   "outputs": [],
   "source": [
    "#make a note of this \n",
    "austria = austria[austria['Origin'] != austria['Destination']]\n",
    "flows = austria['Data'].values\n",
    "Oi = austria['Oi'].values\n",
    "Dj = austria['Dj'].values\n",
    "Dij = austria['Dij'].values\n",
    "Origin = austria['Origin'].values\n",
    "Destination = austria['Destination'].values"
   ]
  },
  {
   "cell_type": "markdown",
   "metadata": {},
   "source": [
    "The Oi and Dj vectors need not be $n^2 \\times 1$ vectors. In fact, they can be $n^2 \\times k$ where $k$ is the number of variables that are either being used to describe origin or desitnation attributes associated with flows. "
   ]
  },
  {
   "cell_type": "markdown",
   "metadata": {},
   "source": [
    "### Calibrating the models"
   ]
  },
  {
   "cell_type": "markdown",
   "metadata": {},
   "source": [
    "Now, lets load the main SpInt functions and calibrate some models. The main SpInt functions are found within the gravity namespace of the SpInt module and the estimated parameters can be accessed via the **params** attribute of a successfully instantiated spatial interaction model."
   ]
  },
  {
   "cell_type": "code",
   "execution_count": 3,
   "metadata": {
    "collapsed": true
   },
   "outputs": [],
   "source": [
    "from pysal.contrib.spint.gravity import Gravity, Production, Attraction, Doubly"
   ]
  },
  {
   "cell_type": "markdown",
   "metadata": {},
   "source": [
    "Unconstrained (basic gravity) model"
   ]
  },
  {
   "cell_type": "code",
   "execution_count": 4,
   "metadata": {
    "collapsed": false
   },
   "outputs": [
    {
     "name": "stdout",
     "output_type": "stream",
     "text": [
      "[ -8.01822841e+00   8.69316127e-01   8.91445153e-01  -6.22938370e-03]\n"
     ]
    }
   ],
   "source": [
    "gravity = Gravity(flows, Oi, Dj, Dij, 'exp')\n",
    "print gravity.params"
   ]
  },
  {
   "cell_type": "markdown",
   "metadata": {},
   "source": [
    "Production-constrained model"
   ]
  },
  {
   "cell_type": "code",
   "execution_count": 5,
   "metadata": {
    "collapsed": false
   },
   "outputs": [
    {
     "name": "stdout",
     "output_type": "stream",
     "text": [
      "[ 0.90285448 -0.0072617 ]\n"
     ]
    }
   ],
   "source": [
    "production = Production(flows, Origin, Dj, Dij, 'exp')\n",
    "print production.params[-2:]"
   ]
  },
  {
   "cell_type": "markdown",
   "metadata": {},
   "source": [
    "Attraction-constrained model"
   ]
  },
  {
   "cell_type": "code",
   "execution_count": 6,
   "metadata": {
    "collapsed": false
   },
   "outputs": [
    {
     "name": "stdout",
     "output_type": "stream",
     "text": [
      "[ 0.90037216 -0.00695034]\n"
     ]
    }
   ],
   "source": [
    "attraction = Attraction(flows, Destination, Oi, Dij, 'exp')\n",
    "print attraction.params[-2:]"
   ]
  },
  {
   "cell_type": "markdown",
   "metadata": {},
   "source": [
    "Doubly-constrained model"
   ]
  },
  {
   "cell_type": "code",
   "execution_count": 7,
   "metadata": {
    "collapsed": false
   },
   "outputs": [
    {
     "name": "stdout",
     "output_type": "stream",
     "text": [
      "[-0.00791533]\n"
     ]
    }
   ],
   "source": [
    "doubly = Doubly(flows, Origin, Destination, Dij, 'exp')\n",
    "print doubly.params[-1:]"
   ]
  },
  {
   "cell_type": "markdown",
   "metadata": {},
   "source": [
    "Note that for the constrained models we have limited the params attribute to print only the main model variables (i.e., not fixed effects), though it is still possible to access the fixed effect parameters too."
   ]
  },
  {
   "cell_type": "code",
   "execution_count": 8,
   "metadata": {
    "collapsed": false
   },
   "outputs": [
    {
     "name": "stdout",
     "output_type": "stream",
     "text": [
      "[-1.16851884  1.68980685  2.15135947  0.59917703  0.88336198  1.20669895\n",
      "  0.68945769  1.15434225  1.01013674  0.90285448 -0.0072617 ]\n"
     ]
    }
   ],
   "source": [
    "print production.params"
   ]
  },
  {
   "cell_type": "markdown",
   "metadata": {},
   "source": [
    "The first parameter is always the overall intercept with the subsequent 8 parameters representing the fixed effects in this case. You might ask, \"why not 9 fixed effects for the 9 different municipalities?\". Due to the coding scheme used in SpInt, and many popular statistical programming languages, you would use $n - 1$ binary indicator variables in the design matrix to include the fixed effects for all 9 municipalities in the model. While the non-zero entries in these columns of the design matrix indicate which rows are associated with which miunicipality, where a row has all zero entries then implicitly refers to the $n$th municipality that has been left out. In Spint this is always the first origin or destination for the production-constrained and attraction-constrained models. For the doubly-cosntrained model, both the first origin and the first destination are left out (Tiefelsdorf & Boots, 1995). In terms of interpetting the parameters, these dropped locations are assumed to be 0. Since the fixed effects parameters are interpretted as deviations from the overall intercept. This essentially means the intercept acts as the fixed effect for the first location. Therefore, we could also say first 9 parameters are the origin fixed effect parameters while the last two parameters are for destination attractiveness and distance, respectively. "
   ]
  },
  {
   "cell_type": "markdown",
   "metadata": {},
   "source": [
    "### Interpretting the parameters"
   ]
  },
  {
   "cell_type": "markdown",
   "metadata": {},
   "source": [
    "First, it will be demonstrated how to interpret the coefficients on the main model variables from a Poisson regression. However, becasue the spatial interaction model is a log-linear Poisson regression (i.e., we take the log of the explanatory variables) the same interpetation cannot be applied because we are working in logarithmic space. Therefore, it will also be demonstrated how to interpret the parameters when they are associated with a logged explanatory variable.\n",
    "\n",
    "Recall from the previous section that the exponential distance-decay specification results in a model that does not take the logarithm of $d_ij$. Therefore, we can use an unconstrained gravity model with an exponential distance-decay specification to demonstrate a typical interpetation of coefficients from a Poisson regression."
   ]
  },
  {
   "cell_type": "code",
   "execution_count": 14,
   "metadata": {
    "collapsed": false
   },
   "outputs": [
    {
     "name": "stdout",
     "output_type": "stream",
     "text": [
      "[ -8.01822841e+00   8.69316127e-01   8.91445153e-01  -6.22938370e-03]\n"
     ]
    }
   ],
   "source": [
    "gravity = Gravity(flows, Oi, Dj, Dij, 'exp')\n",
    "print gravity.params"
   ]
  },
  {
   "cell_type": "markdown",
   "metadata": {
    "collapsed": true
   },
   "source": [
    "-6.22938370e-03 is the coefficint on distance in the above example. In Poisson regression, the coefficients are typically interpretted as the proportionate change in the predicted response, here $T_{ij}$, if we increase an explanatory variable by 1 unit (Cameron & Trivedi, 2013). Technically, this is expressed as,\n",
    "\n",
    "$$ \\tilde{T}_{ij} = T_{ij}* \\exp(\\beta) \\quad (19)$$\n",
    "\n",
    "where $\\tilde{T}_{ij}$ is the new value of $T_{ij}$ and $\\beta$ is a coefficient, here the one typically associated with distance in a Poisson log-linear spatial interaction model with an exponential function distance-decay. For this example, this means from a 1 unit increase in distance, if our model predicted 2,500 flows, then we can expect the number of flows to decrease to approximately 2,484.475. We can also identify the percent change expected from a one unit increase in distance using,\n",
    "\n",
    "$$\\Delta_{\\%} = (1-exp(\\beta))*100.0 \\quad (20)$$\n",
    "\n",
    "which serves as an alternative interpreation of $\\beta$. In this case, we could say that from a 1 unit increase in distance we could expext the number of predicted flows to decrease by approximately 0.621%. \n",
    "\n",
    "However, neither equation (19) or (20) is applicable when the coefficient is associated with a logged explanatory variable. This is important when for Poisson log-linear spatial interaction models because this applies to the origin and destination variables when using an exponential function of distance-decay and to the origin, destination, and distance variables when using a power function of distance-decay. In these cases, the interpration of the coefficients becomes the percent change in the predicted response, here $T_{ij}$, if we increase the associated explanatory variable by 1% (Cameron & Trivedi, 2013). For example, 8.91445153e-01 is the coefficient asosciated with destination total in-flows (i.e., attractiveness) in the above example. Then if we increase the in-flows to location $j$ by 1%, say from $25,000$ to $25,250$, we can expect the number of flows from $i$ to $j$ (i.e., $T_{ij}$) to increase from $2,000$ to $2,020$. \n",
    "\n",
    "Finally, the fixed effects in the constrained models can be interpretted such that the predicted flows, $T_{ij}$, are $\\exp(\\mu_{i})$ ($\\exp(\\alpha_{j})$) times larger if they originate (terminate) from location $i$ (location $j$) (Cameron & Trivedi, 2013). "
   ]
  },
  {
   "cell_type": "markdown",
   "metadata": {},
   "source": [
    "### Assessing model fit"
   ]
  },
  {
   "cell_type": "raw",
   "metadata": {},
   "source": [
    "We can compare the different model fit statistics across the four types of spatial interaction models for this example. Let's process the statistics into a tidy table have a look."
   ]
  },
  {
   "cell_type": "code",
   "execution_count": 17,
   "metadata": {
    "collapsed": false
   },
   "outputs": [
    {
     "data": {
      "text/html": [
       "<div>\n",
       "<table border=\"1\" class=\"dataframe\">\n",
       "  <thead>\n",
       "    <tr style=\"text-align: right;\">\n",
       "      <th></th>\n",
       "      <th>R2</th>\n",
       "      <th>adjR2</th>\n",
       "      <th>AIC</th>\n",
       "      <th>SRMSE</th>\n",
       "      <th>SSI</th>\n",
       "    </tr>\n",
       "    <tr>\n",
       "      <th>model_name</th>\n",
       "      <th></th>\n",
       "      <th></th>\n",
       "      <th></th>\n",
       "      <th></th>\n",
       "      <th></th>\n",
       "    </tr>\n",
       "  </thead>\n",
       "  <tbody>\n",
       "    <tr>\n",
       "      <th>grav</th>\n",
       "      <td>0.885764</td>\n",
       "      <td>0.885718</td>\n",
       "      <td>20122.074349</td>\n",
       "      <td>0.607776</td>\n",
       "      <td>0.727358</td>\n",
       "    </tr>\n",
       "    <tr>\n",
       "      <th>prod</th>\n",
       "      <td>0.910156</td>\n",
       "      <td>0.910031</td>\n",
       "      <td>15841.253799</td>\n",
       "      <td>0.464520</td>\n",
       "      <td>0.740914</td>\n",
       "    </tr>\n",
       "    <tr>\n",
       "      <th>att</th>\n",
       "      <td>0.909355</td>\n",
       "      <td>0.909230</td>\n",
       "      <td>15982.313101</td>\n",
       "      <td>0.584048</td>\n",
       "      <td>0.752155</td>\n",
       "    </tr>\n",
       "    <tr>\n",
       "      <th>doub</th>\n",
       "      <td>0.943540</td>\n",
       "      <td>0.943335</td>\n",
       "      <td>9977.159141</td>\n",
       "      <td>0.379286</td>\n",
       "      <td>0.811852</td>\n",
       "    </tr>\n",
       "  </tbody>\n",
       "</table>\n",
       "</div>"
      ],
      "text/plain": [
       "                  R2     adjR2           AIC     SRMSE       SSI\n",
       "model_name                                                      \n",
       "grav        0.885764  0.885718  20122.074349  0.607776  0.727358\n",
       "prod        0.910156  0.910031  15841.253799  0.464520  0.740914\n",
       "att         0.909355  0.909230  15982.313101  0.584048  0.752155\n",
       "doub        0.943540  0.943335   9977.159141  0.379286  0.811852"
      ]
     },
     "execution_count": 17,
     "metadata": {},
     "output_type": "execute_result"
    }
   ],
   "source": [
    "R2, adjR2, SSI, SRMSE, AIC = [], [], [], [], []\n",
    "model_name = ['grav', 'prod', 'att', 'doub']\n",
    "col_names = ['R2', 'adjR2', 'AIC', 'SRMSE', 'SSI']\n",
    "models = [gravity, production, attraction, doubly]\n",
    "\n",
    "for model in models:\n",
    "    R2.append(model.pseudoR2)\n",
    "    adjR2.append(model.adj_pseudoR2)\n",
    "    SSI.append(model.SSI)\n",
    "    SRMSE.append(model.SRMSE)\n",
    "    AIC.append(model.AIC)\n",
    "\n",
    "cols = {'model_name': model_name,\n",
    "        'R2': R2, \n",
    "        'adjR2': adjR2, \n",
    "        'SSI': SSI, \n",
    "        'SRMSE': SRMSE, \n",
    "        'AIC': AIC }\n",
    "\n",
    "data = pd.DataFrame(cols).set_index('model_name')\n",
    "data[col_names]"
   ]
  },
  {
   "cell_type": "markdown",
   "metadata": {},
   "source": [
    "From this table we can see all of the fit statistics indicate a better model fit as constraints are introduced. That is, the weakest model fit is consistently related to the gravity model, with similarly increased model fit for the production-constrained and attraction-constrained models, and finally, the best model fit is associated with the doubly constrained model. We can also see that the $R^2$ and adjusted $R^2$ are very close, since these models have a very similar number of explanatory variables, thereby resulting in little to no penalization for model complexity.\n",
    "\n",
    "We can also take a look at whether the power or exponential distance-decay specification results in a better model fit. For simplicity, lets just take a look at the SRMSE for a doubly constrained model."
   ]
  },
  {
   "cell_type": "code",
   "execution_count": 61,
   "metadata": {
    "collapsed": false
   },
   "outputs": [
    {
     "name": "stdout",
     "output_type": "stream",
     "text": [
      "SRMSE for exp distance-decay:  0.37928618533\n",
      "SRMSE for exp distance-decay:  0.277703139642\n"
     ]
    }
   ],
   "source": [
    "print 'SRMSE for exp distance-decay: ', doubly.SRMSE\n",
    "pow_doubly = Doubly(flows, Origin, Destination, Dij, 'pow')\n",
    "print 'SRMSE for exp distance-decay: ', pow_doubly.SRMSE"
   ]
  },
  {
   "cell_type": "markdown",
   "metadata": {},
   "source": [
    "For this example, it looks like the power dist-decay specification results in a better model fit."
   ]
  },
  {
   "cell_type": "markdown",
   "metadata": {},
   "source": [
    "### Local models"
   ]
  },
  {
   "cell_type": "code",
   "execution_count": 9,
   "metadata": {
    "collapsed": false
   },
   "outputs": [
    {
     "name": "stdout",
     "output_type": "stream",
     "text": [
      "[-3.4027535985655959, -1.3582517238178298, -0.83072273594370927, -1.1492042884354419, -0.47806696167020846, -1.0094732997391134, -1.6757871751630091, -1.2155693156096277, -1.5396763065983237]\n"
     ]
    }
   ],
   "source": [
    "gravity = Gravity(flows, Oi, Dj, Dij, 'pow')\n",
    "local_gravity = gravity.local(Origin, np.unique(Origin))\n",
    "print local_gravity['param2']"
   ]
  },
  {
   "cell_type": "markdown",
   "metadata": {},
   "source": [
    "### Testing for overdispersion"
   ]
  },
  {
   "cell_type": "markdown",
   "metadata": {},
   "source": [
    "## Additional functionality"
   ]
  },
  {
   "cell_type": "markdown",
   "metadata": {},
   "source": [
    "### Existing features"
   ]
  },
  {
   "cell_type": "markdown",
   "metadata": {},
   "source": [
    "### Future additions"
   ]
  },
  {
   "cell_type": "markdown",
   "metadata": {},
   "source": [
    "Finally, there are several paradigms for incorporating spatial effects into spatial interaction models (competing destinations, spatial autoregressive, eigenvector spatial filter)"
   ]
  },
  {
   "cell_type": "markdown",
   "metadata": {
    "collapsed": true
   },
   "source": [
    "## References"
   ]
  },
  {
   "cell_type": "code",
   "execution_count": null,
   "metadata": {
    "collapsed": false,
    "scrolled": true
   },
   "outputs": [],
   "source": []
  },
  {
   "cell_type": "code",
   "execution_count": null,
   "metadata": {
    "collapsed": true
   },
   "outputs": [],
   "source": []
  }
 ],
 "metadata": {
  "anaconda-cloud": {},
  "kernelspec": {
   "display_name": "Python (spint)",
   "language": "python",
   "name": "spint"
  },
  "language_info": {
   "codemirror_mode": {
    "name": "ipython",
    "version": 2
   },
   "file_extension": ".py",
   "mimetype": "text/x-python",
   "name": "python",
   "nbconvert_exporter": "python",
   "pygments_lexer": "ipython2",
   "version": "2.7.12"
  }
 },
 "nbformat": 4,
 "nbformat_minor": 0
}
